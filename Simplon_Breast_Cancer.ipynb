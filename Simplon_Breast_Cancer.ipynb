{
 "cells": [
  {
   "cell_type": "markdown",
   "id": "49866e07",
   "metadata": {},
   "source": [
    "# Introduction à la classification binaire\n",
    "# Application au diagnostic du cancer du sein\n",
    "\n",
    "Travail en groupe 3/4, sur la semaine 50\n",
    "\n",
    "## Projet Breast Cancer Wisconsin\n",
    "Les données: \n",
    "https://www.kaggle.com/uciml/breast-cancer-wisconsin-data\n",
    "\n",
    "Nous allons étudier le concept de classification qui est avec la régression l'autre tâche principale du Machine Learning supervisé. Nous allons particulièrement nous concentrer sur la classification binaire et l'illustrer sur un exemple d'application concret, le diagnostic du cancer du sein. En outre, nous allons découvrir et utiliser la régression logistique comme modèle de Machine Learning pour effectuer notre tâche de classification binaire.\n"
   ]
  },
  {
   "cell_type": "markdown",
   "id": "248d6101",
   "metadata": {},
   "source": [
    "## Contexte\n",
    "Le Breast Cancer Wisconsin (diagnostic) Dataset est un jeu de données classique du Machine Learning. Il est composé de 569 exemples, chaque exemple étant défini par 30 caractéristiques ; ces caractéristiques correspondent principalement aux propriétés géométriques mesurées sur les cellules issues de la biopsie. Chaque exemple est classé dans la catégorie \"Benign\" (n=357) si la tumeur est bénigne et dans la catégorie \"Malignant\" (n=212) si la tumeur est maline. Le nombre de catégories de la classification est de 2, on parle alors de classification binaire. La finalité de ce travail est ainsi d'entrainer un modèle de Machine Learning à identifier le type de tumeur (bénigne ou maline) en fonction des propriétés géométriques mesurées sur les cellules issues de la biopsie.\n"
   ]
  },
  {
   "cell_type": "markdown",
   "id": "fadd6423",
   "metadata": {},
   "source": [
    "### concepts de base de la classification binaire :\n",
    "Lister:\n",
    "\n",
    "    En quoi consiste la classification binaire ?\n",
    "    Qu'est-ce qu'une matrice de confusion ?\n",
    "        Qu'est-ce qu'un faux négatif ? un vrai négatif ? un faux positif ? un vrai positif ?\n",
    "    Qu'est-ce que le taux de classification (accuracy) ?\n",
    "    Qu'est-ce que le rappel (recall) ?\n",
    "    Qu'est-ce que la précision (precision) ?\n",
    "    Qu'est-ce que le F1-score ?\n",
    "    Qu'est-ce qu'une courbe ROC ?\n",
    "        Qu'est-ce que l'Area Under the Curve (AUC) ?\n"
   ]
  },
  {
   "cell_type": "code",
   "execution_count": null,
   "id": "edc1d273",
   "metadata": {},
   "outputs": [],
   "source": []
  },
  {
   "cell_type": "markdown",
   "id": "318b39db",
   "metadata": {},
   "source": [
    "### Etude\n",
    "décrire:\n",
    "\n",
    "    Qu'est-ce qu'une régression logistique ?\n",
    "    Qu'est-ce que le Feature Scaling ?\n",
    "        A quoi sert-il et quels sont ses avantages ?\n",
    "        Qu'est-ce que la normalisation des données ?\n",
    "        Qu'est-ce que la standardisation des données ?\n",
    "        Comment l'utilise-t-on lorsque l'on a un jeu de train et un jeu de test ?\n"
   ]
  },
  {
   "cell_type": "code",
   "execution_count": null,
   "id": "9015b96a",
   "metadata": {},
   "outputs": [],
   "source": []
  },
  {
   "cell_type": "markdown",
   "id": "125beb23",
   "metadata": {},
   "source": [
    "## Implémentation python\n",
    "Entrainement d'un modèle de type régression logistique à diagnostiquer l'absence ou la présence d'un cancer du sein\n",
    "Les étapes:\n",
    "\n",
    "    Importation des librairies Python\n",
    "    Chargement des données du Breast Cancer Wisconsin (diagnostic) Dataset\n",
    "    Mise au format Numpy des données\n",
    "        Par défaut, patients sains = 0, patients malades = 1.\n",
    "    Echantillonnage des données\n",
    "        NB test_size = 113\n",
    "    Afficher sous forme d'histogrammes la distribution du jeu de données initial, du jeu de train et du jeu de test en fonction de chaque catégorie (bénigne et maline)\n",
    "    Effectuer le Feature Scaling\n",
    "    Entrainer le modèle de régression logistique\n",
    "        model = LogisticRegression(C = 0.1, max_iter = 10000)\n",
    "    Calculer et afficher les performances obtenues sur le jeu d'apprentissage\n",
    "        Matrice de confusion\n",
    "        Taux de classification, Rappel, Précision et F1-Score\n",
    "        Courbe ROC, AUC\n",
    "    Calculer et afficher les performances obtenues sur le jeu de test\n",
    "        Matrice de confusion\n",
    "        Taux de classification, Rappel, Précision et F1-Score\n",
    "        Courbe ROC, AUC"
   ]
  },
  {
   "cell_type": "code",
   "execution_count": null,
   "id": "42a4a8c0",
   "metadata": {},
   "outputs": [],
   "source": [
    "import p"
   ]
  },
  {
   "cell_type": "code",
   "execution_count": null,
   "id": "11ad4cae",
   "metadata": {},
   "outputs": [],
   "source": []
  },
  {
   "cell_type": "code",
   "execution_count": null,
   "id": "cc791002",
   "metadata": {},
   "outputs": [],
   "source": []
  }
 ],
 "metadata": {
  "kernelspec": {
   "display_name": "Python 3",
   "language": "python",
   "name": "python3"
  },
  "language_info": {
   "codemirror_mode": {
    "name": "ipython",
    "version": 3
   },
   "file_extension": ".py",
   "mimetype": "text/x-python",
   "name": "python",
   "nbconvert_exporter": "python",
   "pygments_lexer": "ipython3",
   "version": "3.8.8"
  }
 },
 "nbformat": 4,
 "nbformat_minor": 5
}
