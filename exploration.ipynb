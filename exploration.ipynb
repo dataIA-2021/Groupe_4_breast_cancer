{
 "cells": [
  {
   "cell_type": "code",
   "execution_count": null,
   "id": "67ddcf78",
   "metadata": {},
   "outputs": [],
   "source": [
    "#Librairies utilisées:\n",
    "\n",
    "import pandas as pd\n",
    "import matplotlib.pyplot as plt\n",
    "import pandas as pd\n",
    "import scipy.stats\n",
    "import numpy as np\n",
    "import seaborn as sns\n",
    "import plotly \n",
    "import plotly.graph_objects as go\n",
    "import chart_studio\n",
    "import chart_studio.plotly as py\n",
    "import plotly.figure_factory as ff\n",
    "from plotly.offline import init_notebook_mode, iplot\n",
    "plotly.offline.init_notebook_mode()\n",
    "import plotly.express as px\n",
    "\n",
    "init_notebook_mode(connected=True)         # initiate notebook for offline plot\n",
    "from plotly.subplots import make_subplots\n",
    "import plotly.io as pio\n",
    "#pio.renderers.default = 'svg'\n",
    "pio.renderers.default = 'browser'\n",
    "import plotly.offline as pyo\n",
    "pyo.init_notebook_mode()\n",
    "from IPython.display import Image, HTML, display, SVG\n",
    "import missingno as msno\n",
    "\n"
   ]
  },
  {
   "cell_type": "code",
   "execution_count": null,
   "id": "c4849adb",
   "metadata": {},
   "outputs": [],
   "source": [
    "\n",
    "df = pd.read_csv('dataset.csv')\n",
    "df.head()"
   ]
  },
  {
   "cell_type": "code",
   "execution_count": null,
   "id": "666c74e3",
   "metadata": {},
   "outputs": [],
   "source": [
    "#First exploration and describing.\n",
    "df.describe(include='all')\n"
   ]
  },
  {
   "cell_type": "code",
   "execution_count": null,
   "id": "f6121a26",
   "metadata": {},
   "outputs": [],
   "source": [
    "df.info()\n"
   ]
  },
  {
   "cell_type": "code",
   "execution_count": null,
   "id": "14c45f9a",
   "metadata": {},
   "outputs": [],
   "source": [
    "df.isna().sum()\n"
   ]
  },
  {
   "cell_type": "code",
   "execution_count": null,
   "id": "dab8c7e0",
   "metadata": {},
   "outputs": [],
   "source": [
    "#Valeurs manquantes : Pas de valeur manquante\n",
    "na_values=msno.matrix(df,figsize=(10,3))\n",
    "na_values\n"
   ]
  },
  {
   "cell_type": "code",
   "execution_count": null,
   "id": "67621b45",
   "metadata": {},
   "outputs": [],
   "source": [
    " # Analyse univariée de densité et distribution de chaque variable \n",
    "\n",
    "for col in df.select_dtypes('float64'):\n",
    "    plt.figure()\n",
    "    sns.distplot(df[col])\n",
    "for col in df.select_dtypes('int64'):\n",
    "    plt.figure()\n",
    "    sns.distplot(data[col])"
   ]
  },
  {
   "cell_type": "code",
   "execution_count": null,
   "id": "371dcf37",
   "metadata": {},
   "outputs": [],
   "source": [
    "#Corrélation jeu de données\n",
    "#Finding the correlation between variables\n",
    "\n",
    "df1 = df.drop('id', axis=1)\n",
    "pearsonCorr = df1.corr(method='pearson')\n",
    "fig = plt.subplots(figsize=(14,8))\n",
    "sns.heatmap(pearsonCorr, vmin=-1,vmax=1, cmap = \"Greens\", annot=True, linewidth=0.1)\n",
    "plt.title(\"Pearson Correlation\")"
   ]
  },
  {
   "cell_type": "code",
   "execution_count": null,
   "id": "148fba65",
   "metadata": {},
   "outputs": [],
   "source": [
    "# Plot pair variable analysis\n",
    "pair=sns.pairplot(df, hue='radius_mean')\n",
    "pair"
   ]
  },
  {
   "cell_type": "code",
   "execution_count": null,
   "id": "a95f3024",
   "metadata": {},
   "outputs": [],
   "source": [
    "#Personnes malades \n",
    "is_sick =  df[df.diagnosis  == 'B']\n",
    "print(\"Le nombre de personne malade est : \", len(is_sick))\n",
    "\n",
    "#Personne non malade\n",
    "is_notsick =  data[data.CŒUR == 0]\n",
    "print(\"Le nombre de personne non-malade est : \",len(is_notsick))\n",
    "\n",
    "#Pourcentage de personnes atteintes \n",
    "perc_sick=round(508/(508+410)*100,2)\n",
    "print(\"Dans notre jeu de données,\",perc_sick, \"% des personnes ont une maladie cardiaque\")\n",
    "\n",
    "#POurcentage femmes\n",
    "nbwomen=data[data.SEXE == \"femme\"]\n",
    "nbwomensick=len(nbwomen[nbwomen.CŒUR == 1])\n",
    "pourc_womensick = (nbwomensick / len(nbwomen))*100\n",
    "\n",
    "#POurcentage hommes\n",
    "nbmen=data[data.SEXE == \"homme\"]\n",
    "nbmensick=len(nbmen[nbmen.CŒUR == 1])\n",
    "pourc_mensick = (nbmensick / len(nbmen))*100"
   ]
  },
  {
   "cell_type": "code",
   "execution_count": null,
   "id": "83cb42e0",
   "metadata": {},
   "outputs": [],
   "source": []
  },
  {
   "cell_type": "code",
   "execution_count": null,
   "id": "67dc9274",
   "metadata": {},
   "outputs": [],
   "source": []
  }
 ],
 "metadata": {
  "kernelspec": {
   "display_name": "Python 3 (ipykernel)",
   "language": "python",
   "name": "python3"
  },
  "language_info": {
   "codemirror_mode": {
    "name": "ipython",
    "version": 3
   },
   "file_extension": ".py",
   "mimetype": "text/x-python",
   "name": "python",
   "nbconvert_exporter": "python",
   "pygments_lexer": "ipython3",
   "version": "3.8.8"
  }
 },
 "nbformat": 4,
 "nbformat_minor": 5
}
